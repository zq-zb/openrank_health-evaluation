{
 "cells": [
  {
   "cell_type": "code",
   "execution_count": 1,
   "metadata": {},
   "outputs": [],
   "source": [
    "import os\n",
    "import pandas as pd\n",
    "\n",
    "\n",
    "def process_all_files(base_dir, output_dir):\n",
    "    if not os.path.exists(output_dir):\n",
    "        os.makedirs(output_dir)\n",
    "\n",
    "    for root, dirs, files in os.walk(base_dir):\n",
    "        for file in files:\n",
    "            # 对不同的指标数据进行填补                                                                                                                                        \n",
    "            if file.endswith('new_contributors.csv') or file.endswith('inactive_contributors.csv') or file.endswith('change_requests.csv') or file.endswith('change_requests_reviews.csv') or file.endswith('issues_new.csv') or file.endswith('issues_closed.csv') or file.endswith('code_change_lines_add.csv') or file.endswith('code_change_lines_remove.csv') or file.endswith('code_change_lines_sum.csv'):\n",
    "                input_file_path = os.path.join(root, file)                                                                                                                                   \n",
    "                df=pd.read_csv(input_file_path)\n",
    "                df['指标值']=df['指标值'].fillna(0)\n",
    "                # 构建输出文件路径\n",
    "                base_name = os.path.basename(input_file_path)\n",
    "                output_file_path = os.path.join(output_dir, base_name)\n",
    "                # 保存更新后的数据到新的CSV文件\n",
    "                df.to_csv(output_file_path, index=False) \n",
    "                print(f\"找到与 {input_file_path} 对应的 new_contributors.csv 文件\")   \n",
    "\n",
    "# 指定基础目录和输出目录\n",
    "base_dir = './add 仅填补日期 无补0'\n",
    "output_dir = './填补数据 补0+KNN近邻+问题变更等'\n",
    "process_all_files(base_dir, output_dir)"
   ]
  }
 ],
 "metadata": {
  "kernelspec": {
   "display_name": "base",
   "language": "python",
   "name": "python3"
  },
  "language_info": {
   "codemirror_mode": {
    "name": "ipython",
    "version": 3
   },
   "file_extension": ".py",
   "mimetype": "text/x-python",
   "name": "python",
   "nbconvert_exporter": "python",
   "pygments_lexer": "ipython3",
   "version": "3.11.5"
  }
 },
 "nbformat": 4,
 "nbformat_minor": 2
}
