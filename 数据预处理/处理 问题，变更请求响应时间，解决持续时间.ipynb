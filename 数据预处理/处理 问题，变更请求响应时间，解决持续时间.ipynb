{
 "cells": [
  {
   "cell_type": "code",
   "execution_count": null,
   "metadata": {},
   "outputs": [],
   "source": [
    "import os\n",
    "import pandas as pd\n",
    "import numpy as np\n",
    "import ast\n",
    "\n",
    "def process_all_files(base_dir, output_dir):\n",
    "    if not os.path.exists(output_dir):\n",
    "        os.makedirs(output_dir)\n",
    "\n",
    "    for root, dirs, files in os.walk(base_dir):\n",
    "        for file in files:\n",
    "            # 对不同的指标数据进行填补                                                                                                                                        \n",
    "            if file.endswith('change_request_response_time.csv') or file.endswith('change_request_resolution_duration.csv') or file.endswith('issue_response_time.csv') or file.endswith('issue_resolution_duration.csv'):\n",
    "                input_file_path = os.path.join(root, file)                                                                                                                                   \n",
    "                df=pd.read_csv(input_file_path)\n",
    "\n",
    "                data=ast.literal_eval(df['指标值'][0])\n",
    "                total_sum=0\n",
    "                count=0\n",
    "                # 遍历数据并累加数值\n",
    "                for value in data.values():\n",
    "                    total_sum += value\n",
    "                    count +=1\n",
    "                avg=total_sum/count\n",
    "                df['平均数']=float('nan')  # 初始化整列为NaN\n",
    "                df.at[0, '平均数'] = avg     # 设置第一个元素为avg\n",
    "                base_name = os.path.basename(input_file_path)\n",
    "                output_file_path = os.path.join(output_dir, base_name)\n",
    "                # 保存更新后的数据到新的CSV文件\n",
    "                df.to_csv(output_file_path, index=False) \n",
    "                print(f\"找到与 {input_file_path} 对应的 new_contributors.csv 文件\")   \n",
    "\n",
    "# 指定基础目录和输出目录\n",
    "base_dir = './outputdata 原数据'\n",
    "output_dir = './填补数据 补0+KNN近邻+问题变更等'\n",
    "process_all_files(base_dir, output_dir)"
   ]
  }
 ],
 "metadata": {
  "kernelspec": {
   "display_name": "base",
   "language": "python",
   "name": "python3"
  },
  "language_info": {
   "name": "python",
   "version": "3.11.5"
  }
 },
 "nbformat": 4,
 "nbformat_minor": 2
}
