{
 "cells": [
  {
   "cell_type": "code",
   "execution_count": 1,
   "metadata": {},
   "outputs": [
    {
     "name": "stdout",
     "output_type": "stream",
     "text": [
      "Moved: airbytehq_airbyte_active_dates_and_times.csv\n",
      "Moved: airbytehq_airbyte_activity.csv\n",
      "Moved: airbytehq_airbyte_activity_details.csv\n",
      "Moved: airbytehq_airbyte_attention.csv\n",
      "Moved: airbytehq_airbyte_bus_factor.csv\n",
      "Moved: airbytehq_airbyte_bus_factor_detail.csv\n",
      "Moved: airbytehq_airbyte_change_requests.csv\n",
      "Moved: airbytehq_airbyte_change_requests_accepted.csv\n",
      "Moved: airbytehq_airbyte_change_requests_reviews.csv\n",
      "Moved: airbytehq_airbyte_change_request_age.csv\n",
      "Moved: airbytehq_airbyte_change_request_resolution_duration.csv\n",
      "Moved: airbytehq_airbyte_change_request_response_time.csv\n",
      "Moved: airbytehq_airbyte_code_change_lines_add.csv\n",
      "Moved: airbytehq_airbyte_code_change_lines_remove.csv\n",
      "Moved: airbytehq_airbyte_code_change_lines_sum.csv\n",
      "Moved: airbytehq_airbyte_contributor_email_suffixes.csv\n",
      "Moved: airbytehq_airbyte_inactive_contributors.csv\n",
      "Moved: airbytehq_airbyte_issues_and_change_request_active.csv\n",
      "Moved: airbytehq_airbyte_issues_closed.csv\n",
      "Moved: airbytehq_airbyte_issues_new.csv\n",
      "Moved: airbytehq_airbyte_issue_age.csv\n",
      "Moved: airbytehq_airbyte_issue_comments.csv\n",
      "Moved: airbytehq_airbyte_issue_resolution_duration.csv\n",
      "Moved: airbytehq_airbyte_issue_response_time.csv\n",
      "Moved: airbytehq_airbyte_meta.csv\n",
      "Moved: airbytehq_airbyte_new_contributors.csv\n",
      "Moved: airbytehq_airbyte_new_contributors_detail.csv\n",
      "Moved: airbytehq_airbyte_openrank.csv\n",
      "Moved: airbytehq_airbyte_participants.csv\n",
      "Moved: airbytehq_airbyte_stars.csv\n",
      "Moved: airbytehq_airbyte_technical_fork.csv\n",
      "Operation completed.\n"
     ]
    }
   ],
   "source": [
    "import os\n",
    "import shutil\n",
    "from collections import defaultdict\n",
    "\n",
    "# 定义源文件夹路径和目标文件夹路径\n",
    "source_dir='./outputdata'  # 替换为你的源文件夹路径\n",
    "target_dir='./'  # 替换为你的目标文件夹路径\n",
    "\n",
    "# 如果目标文件夹不存在，则创建它\n",
    "if not os.path.exists(target_dir):\n",
    "    os.makedirs(target_dir)\n",
    "\n",
    "# 文件前缀\n",
    "file_prefix='airbytehq_'  # 替换为你想要的前缀\n",
    "\n",
    "# 遍历源文件夹中的所有文件\n",
    "for filename in os.listdir(source_dir):\n",
    "    # 检查文件是否是以指定前缀开头并且是csv文件\n",
    "    if filename.startswith(file_prefix) and filename.endswith('.csv'):\n",
    "        # 构造完整的文件路径\n",
    "        full_file_path=os.path.join(source_dir,filename)\n",
    "        # 移动文件到目标文件夹\n",
    "        shutil.copy(full_file_path,target_dir)\n",
    "        print(f'Moved: {filename}')\n",
    "\n",
    "print('Operation completed.')"
   ]
  }
 ],
 "metadata": {
  "kernelspec": {
   "display_name": "base",
   "language": "python",
   "name": "python3"
  },
  "language_info": {
   "codemirror_mode": {
    "name": "ipython",
    "version": 3
   },
   "file_extension": ".py",
   "mimetype": "text/x-python",
   "name": "python",
   "nbconvert_exporter": "python",
   "pygments_lexer": "ipython3",
   "version": "3.11.5"
  }
 },
 "nbformat": 4,
 "nbformat_minor": 2
}
