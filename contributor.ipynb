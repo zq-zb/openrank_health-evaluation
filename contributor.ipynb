{
 "cells": [
  {
   "cell_type": "code",
   "execution_count": 2,
   "metadata": {},
   "outputs": [
    {
     "name": "stdout",
     "output_type": "stream",
     "text": [
      "       指标名称  num\n",
      "0   2015-01    3\n",
      "1   2015-02    2\n",
      "2   2015-03    2\n",
      "3   2015-04    3\n",
      "4   2015-05    1\n",
      "..      ...  ...\n",
      "94  2022-11    3\n",
      "95  2022-12    3\n",
      "96  2023-01    4\n",
      "97  2023-02    3\n",
      "98  2023-03    3\n",
      "\n",
      "[99 rows x 2 columns]\n"
     ]
    }
   ],
   "source": [
    "import pandas as pd\n",
    "from ast import literal_eval\n",
    "\n",
    "input_file_path='AdguardTeam_AdguardFilters_contributor_email_suffixes.csv'\n",
    "output_file_path='AdguardTeam_AdguardFilters_contributor.csv'\n",
    "data=pd.read_csv(input_file_path)\n",
    "\n",
    "df=pd.DataFrame(data)\n",
    "# 解析字符串为列表\n",
    "\n",
    "df['parsed_suffixes'] = df['指标值'].apply(literal_eval) # 将字符串解析为实际的列表\n",
    "df['num']=df['parsed_suffixes'].apply(len)\n",
    "\n",
    "df=df[['指标名称','num']]\n",
    "print(df)\n",
    "df.to_csv(output_file_path,index=False)\n"
   ]
  }
 ],
 "metadata": {
  "kernelspec": {
   "display_name": "base",
   "language": "python",
   "name": "python3"
  },
  "language_info": {
   "codemirror_mode": {
    "name": "ipython",
    "version": 3
   },
   "file_extension": ".py",
   "mimetype": "text/x-python",
   "name": "python",
   "nbconvert_exporter": "python",
   "pygments_lexer": "ipython3",
   "version": "3.11.5"
  }
 },
 "nbformat": 4,
 "nbformat_minor": 2
}
