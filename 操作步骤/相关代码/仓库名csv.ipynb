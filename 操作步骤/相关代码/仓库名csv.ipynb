{
 "cells": [
  {
   "cell_type": "code",
   "execution_count": 1,
   "metadata": {},
   "outputs": [
    {
     "name": "stdout",
     "output_type": "stream",
     "text": [
      "已保存到 ./month.csv\n"
     ]
    }
   ],
   "source": [
    "import pandas as pd\n",
    "import os\n",
    "import re\n",
    "\n",
    "def extract_repo_names_from_filenames(base_dir):\n",
    "    repo_names = set()\n",
    "    pattern=re.compile(r'^([^_]+_[^_]+)')\n",
    "    for root, dirs, files in os.walk(base_dir):\n",
    "        for file in files:\n",
    "            if file.endswith('.csv'):\n",
    "                match = pattern.match(file)\n",
    "                if match:\n",
    "                    repo_name = match.group(1)\n",
    "                    repo_names.add(repo_name)  # 添加到集合中，自动避免重复\n",
    "    return sorted(list(repo_names), key=lambda x: x.lower())\n",
    "\n",
    "def write_repo_names_to_csv(repo_names, output_file_path):\n",
    "\n",
    "    df = pd.DataFrame(columns=['指标名称', '指标值'])\n",
    "    df['指标名称'] = repo_names\n",
    "    # 保存到CSV文件\n",
    "    df.to_csv(output_file_path, index=False)\n",
    "\n",
    "    print(f\"已保存到 {output_file_path}\")\n",
    "\n",
    "base_dir = './最终数据处理'  # 包含CSV文件的文件夹路径\n",
    "output_file_path = './month.csv'  # 输出文件路径 这里可以修改名称 为每个层次都设立一个评分表\n",
    "# 提取仓库名称\n",
    "repo_names = extract_repo_names_from_filenames(base_dir)\n",
    "# 将仓库名称写入CSV文件\n",
    "write_repo_names_to_csv(repo_names, output_file_path)"
   ]
  }
 ],
 "metadata": {
  "kernelspec": {
   "display_name": "base",
   "language": "python",
   "name": "python3"
  },
  "language_info": {
   "codemirror_mode": {
    "name": "ipython",
    "version": 3
   },
   "file_extension": ".py",
   "mimetype": "text/x-python",
   "name": "python",
   "nbconvert_exporter": "python",
   "pygments_lexer": "ipython3",
   "version": "3.11.5"
  }
 },
 "nbformat": 4,
 "nbformat_minor": 2
}
