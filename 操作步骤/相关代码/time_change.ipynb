{
 "cells": [
  {
   "cell_type": "code",
   "execution_count": 3,
   "metadata": {},
   "outputs": [],
   "source": [
    "import pandas as pd\n",
    "\n",
    "# 读取整个CSV文件到DataFrame\n",
    "df = pd.read_csv('AdguardTeam_AdguardFilters_active_dates_and_times.csv')\n",
    "df_part=pd.read_csv('AdguardTeam_AdguardFilters_participants.csv')"
   ]
  },
  {
   "cell_type": "code",
   "execution_count": 5,
   "metadata": {},
   "outputs": [
    {
     "name": "stdout",
     "output_type": "stream",
     "text": [
      "[0, 0, 0, 0, 0, 0, 0, 0, 4, 5, 3, 5, 9, 7, 6, 4, 6, 5, 4, 1, 2, 4, 1, 0, 1, 0, 2, 0, 0, 0, 0, 1, 3, 4, 3, 4, 5, 2, 5, 3, 6, 2, 2, 1, 4, 3, 0, 0, 0, 0, 0, 0, 0, 0, 1, 0, 3, 3, 1, 2, 6, 8, 4, 4, 4, 1, 2, 5, 4, 1, 0, 0, 0, 0, 0, 0, 0, 0, 0, 0, 1, 3, 4, 7, 5, 5, 6, 2, 7, 2, 4, 8, 10, 6, 0, 0, 0, 0, 0, 0, 0, 0, 0, 0, 1, 1, 0, 1, 0, 4, 5, 10, 2, 2, 1, 2, 1, 1, 0, 0, 0, 0, 0, 0, 0, 0, 0, 0, 0, 0, 0, 0, 1, 0, 1, 0, 0, 0, 0, 2, 3, 2, 0, 0, 0, 2, 2, 0, 0, 0, 0, 0, 0, 0, 2, 2, 0, 0, 0, 0, 0, 0, 1, 0, 0, 0, 0, 0]\n",
      "83\n"
     ]
    }
   ],
   "source": [
    "part_max=df_part['指标值'].max()\n",
    "death_time=0\n",
    "df_part_live=[]\n",
    "df_live=[]\n",
    "for i in range(len(df_part['指标值'])) :\n",
    "    if (df_part['指标值'][i]/part_max) < 0.1:#人数流失到只剩1/10的话我就认为该项目掉了一个数量级进入休眠状态\n",
    "        death_time+=1\n",
    "    else:\n",
    "        df_part_live.append(df_part['指标值'][i])\n",
    "        df_live.append(df['指标值'][i])\n",
    "print(df_live[0])\n",
    "print(len(df_live))"
   ]
  },
  {
   "cell_type": "code",
   "execution_count": 17,
   "metadata": {},
   "outputs": [
    {
     "name": "stdout",
     "output_type": "stream",
     "text": [
      "[]\n",
      "[285, 253, 333, 396, 400, 351, 290, 358, 383, 286, 353, 341, 381, 347, 310, 393, 397, 320, 414, 518, 557, 439, 565, 493, 582, 457, 513, 458, 521, 501, 538, 362, 427, 495, 477, 496, 549, 513, 442, 569, 460, 442, 431, 414, 469, 485, 463, 430, 458, 454, 479, 402, 497, 537, 416, 453, 482, 492, 396, 426, 533, 444, 481, 480, 499, 502, 507, 547, 456, 333, 587, 551, 528, 537, 543, 429, 431, 425, 443, 460, 460, 451, 493]\n",
      "7.483734939759036\n"
     ]
    }
   ],
   "source": [
    "import numpy as np\n",
    "import statistics\n",
    "import ast\n",
    "std=[]\n",
    "sp=[]\n",
    "so=[]\n",
    "\n",
    "for i in range(len(df_live)):\n",
    "    data[i]=ast.literal_eval(df_live[i])\n",
    "    sp.append(np.sum(data[i]))\n",
    "    so.append(10*sp[i]/600)\n",
    "print(std)\n",
    "print(sp)\n",
    "avg=np.mean(so)\n",
    "print(avg)"
   ]
  }
 ],
 "metadata": {
  "kernelspec": {
   "display_name": "base",
   "language": "python",
   "name": "python3"
  },
  "language_info": {
   "codemirror_mode": {
    "name": "ipython",
    "version": 3
   },
   "file_extension": ".py",
   "mimetype": "text/x-python",
   "name": "python",
   "nbconvert_exporter": "python",
   "pygments_lexer": "ipython3",
   "version": "3.11.5"
  }
 },
 "nbformat": 4,
 "nbformat_minor": 2
}
